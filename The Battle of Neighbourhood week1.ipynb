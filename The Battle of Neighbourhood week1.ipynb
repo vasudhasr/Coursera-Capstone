{
    "nbformat_minor": 1, 
    "cells": [
        {
            "source": "<h1>The Battle of the Neighborhoods - Week 1</h1>", 
            "cell_type": "markdown", 
            "metadata": {
                "collapsed": true
            }
        }, 
        {
            "source": "<h5>Introduction & Business Problem :</h5>", 
            "cell_type": "markdown", 
            "metadata": {}
        }, 
        {
            "source": "<h5>Problem Background:</h5>", 
            "cell_type": "markdown", 
            "metadata": {}
        }, 
        {
            "source": "<p>The City of New York, is the most populous city in the United States. It is diverse and is the financial capital of USA. It is multicultural. It provides lot of business oppourtunities and business friendly environment. It has attracted many different players into the market. It is a global hub of business and commerce. The city is a major center for banking and finance, retailing, world trade, transportation, tourism, real estate, new media, traditional media, advertising, legal services, accountancy, insurance, theater, fashion, and the arts in the United States.</p>\n<p>This also means that the market is highly competitive. As it is highly developed city so cost of doing business is also one of the highest. Thus, any new business venture or expansion needs to be analysed carefully. The insights derived from analysis will give good understanding of the business environment which help in strategically targeting the market. This will help in reduction of risk. And the Return on Investment will be reasonable.</p>", 
            "cell_type": "markdown", 
            "metadata": {}
        }, 
        {
            "source": "<h5>Problem Description:</h5>", 
            "cell_type": "markdown", 
            "metadata": {}
        }, 
        {
            "source": "<p>A restaurant is a business which prepares and serves food and drink to customers in return for money, either paid before the meal, after the meal, or with an open account. The City of New York is famous for its excelllent cuisine. It's food culture includes an array of international cuisines influenced by the city's immigrant history.</p>\n<ol>\n    <li>Central and Eastern European immigrants, especially Jewish immigrants - bagels, cheesecake, hot dogs, knishes, and delicatessens</li>\n    <li>Italian immigrants - New York-style pizza and Italian cuisine</li>\n    <li>Jewish immigrants and Irish immigrants - pastrami and corned beef</li>\n    <li>Chinese and other Asian restaurants, sandwich joints, trattorias, diners, and coffeehouses are ubiquitous throughout the city</li>\n    <li>Mobile food vendors - Some 4,000 licensed by the city</li>\n    <li>Middle Eastern foods such as falafel and kebabs examples of modern New York street food</li>\n    <li>It is famous for not just Pizzerias, Cafe's but also for fine dining Michelin starred restaurants.The city is home to \"nearly one thousand of the finest and most diverse haute cuisine restaurants in the world\", according to Michelin.</li>\n\n</ol>\n<p>So it is evident that to survive in such competitive market it is very important to startegically plan. Various factors need to be studied inorder to decide on the Location such as :</p>\n<ol>\n    <li>New York Population</li>\n    <li>New York City Demographics</li>\n    <li>Are there any Farmers Markets, Wholesale markets etc nearby so that the ingredients can be purchased fresh to maintain quality and cost?</li>\n    <li>Are there any venues like Gyms, Entertainmnet zones, Parks etc nearby where floating population is high etc\n</li>\n    <li>Who are the competitors in that location?</li>\n    <li>Cuisine served / Menu of the competitors</li>\n    <li>Segmentation of the Borough</li>\n    <li>Untapped markets</li>\n    <li>Saturated markets etc</li>\n\n</ol>\n<p>Eventhough well funded XYZ Company Ltd. need to choose the correct location to start its first venture.If this is successful they can replicate the same in other locations. First move is very important, thereby choice of location is very important.</p>", 
            "cell_type": "markdown", 
            "metadata": {}
        }, 
        {
            "source": "<h5>Target Audience:</h5>", 
            "cell_type": "markdown", 
            "metadata": {}
        }, 
        {
            "source": "<p>To recommend the correct location, XYZ Company Ltd has appointed me to lead of the Data Science team. The objective is to locate and recommend to the management which neighborhood of Newyork city will be best choice to start a restaurant. The Management also expects to understand the rationale of the recommendations made.\n\nThis would interest anyone who wants to start a new restaurant in Newyork city.</p>", 
            "cell_type": "markdown", 
            "metadata": {}
        }, 
        {
            "source": "<h5>Success Criteria:</h5>", 
            "cell_type": "markdown", 
            "metadata": {}
        }, 
        {
            "source": "<p>\nThe success criteria of the project will be a good recommendation of borough/Neighborhood choice to XYZ Company Ltd based on Lack of such restaurants in that location and nearest suppliers of ingredients.</p>", 
            "cell_type": "markdown", 
            "metadata": {}
        }, 
        {
            "execution_count": null, 
            "cell_type": "code", 
            "metadata": {}, 
            "outputs": [], 
            "source": ""
        }
    ], 
    "metadata": {
        "kernelspec": {
            "display_name": "Python 3.6", 
            "name": "python3", 
            "language": "python"
        }, 
        "language_info": {
            "mimetype": "text/x-python", 
            "nbconvert_exporter": "python", 
            "version": "3.6.8", 
            "name": "python", 
            "file_extension": ".py", 
            "pygments_lexer": "ipython3", 
            "codemirror_mode": {
                "version": 3, 
                "name": "ipython"
            }
        }
    }, 
    "nbformat": 4
}